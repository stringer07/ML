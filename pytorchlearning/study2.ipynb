{
 "cells": [
  {
   "cell_type": "code",
   "execution_count": 1,
   "metadata": {},
   "outputs": [],
   "source": [
    "import torch\n",
    "import numpy as np"
   ]
  },
  {
   "cell_type": "markdown",
   "metadata": {},
   "source": [
    "### 数据基本操作，元素类型，tensor形状等"
   ]
  },
  {
   "cell_type": "code",
   "execution_count": 4,
   "metadata": {},
   "outputs": [
    {
     "name": "stdout",
     "output_type": "stream",
     "text": [
      "tensor([1, 2, 3]) torch.int64\n",
      "2\n",
      "torch.Size([2, 3]) torch.Size([2, 3])\n"
     ]
    }
   ],
   "source": [
    "a=torch.tensor([1,2,3],dtype=int)\n",
    "print(a,a.dtype)\n",
    "tensor=torch.tensor([[1,2,3],\n",
    "                     [4,5,6]])\n",
    "print(tensor.ndim)\n",
    "print(tensor.shape,tensor.size())"
   ]
  },
  {
   "cell_type": "markdown",
   "metadata": {},
   "source": [
    "### 数据生成"
   ]
  },
  {
   "cell_type": "code",
   "execution_count": 7,
   "metadata": {},
   "outputs": [
    {
     "name": "stdout",
     "output_type": "stream",
     "text": [
      "tensor([[1., 1., 1., 1.],\n",
      "        [1., 1., 1., 1.],\n",
      "        [1., 1., 1., 1.]])\n",
      "tensor([[0., 0., 0., 0.],\n",
      "        [0., 0., 0., 0.],\n",
      "        [0., 0., 0., 0.]])\n",
      "tensor([[0.3504, 0.1234, 0.1594, 0.4151],\n",
      "        [0.5036, 0.7950, 0.2883, 0.4391],\n",
      "        [0.6728, 0.8382, 0.2310, 0.6426]])\n",
      "tensor([[2, 3, 9],\n",
      "        [8, 9, 8]])\n",
      "tensor([[-0.3247, -0.4076, -1.4892, -0.1831],\n",
      "        [-0.6597, -0.7731,  0.8686, -0.3223],\n",
      "        [ 0.6097,  1.4915,  1.0128, -2.0191]])\n",
      "tensor([[4, 9, 1],\n",
      "        [8, 5, 4],\n",
      "        [2, 5, 8],\n",
      "        [2, 4, 2]])\n",
      "tensor([[0.1545, 0.6235, 0.1608],\n",
      "        [0.2350, 0.1919, 0.2413],\n",
      "        [0.3824, 0.1350, 0.0042],\n",
      "        [0.8935, 0.1213, 0.4845]], dtype=torch.float64)\n"
     ]
    }
   ],
   "source": [
    "print(torch.ones(3,4))#生成全一tensor\n",
    "print(torch.zeros(3,4))#生成全零tensor\n",
    "print(torch.rand(3,4))#生成0-1之间的随机tensor\n",
    "print(torch.randint(0,10,(2,3)))#生成随机整数tensor\n",
    "print(torch.randn(3,4))#符合正态分布的随机数\n",
    "a=torch.randint(0,10,(4,3))\n",
    "print(a)\n",
    "print(torch.rand_like(a,dtype=float))#生成和a形状一样的tensor"
   ]
  },
  {
   "cell_type": "code",
   "execution_count": 10,
   "metadata": {},
   "outputs": [
    {
     "name": "stdout",
     "output_type": "stream",
     "text": [
      "a=tensor([[1, 0, 3],\n",
      "        [8, 5, 4]])\n",
      "b=tensor([1, 0, 3, 8, 5, 4])\n",
      "c=tensor([[1, 0],\n",
      "        [3, 8],\n",
      "        [5, 4]])\n",
      "\n"
     ]
    }
   ],
   "source": [
    "a=torch.randint(0,10,(2,3))\n",
    "b=a.view(6)\n",
    "c=a.view(3,2)\n",
    "print(\"a={}\\nb={}\\nc={}\\n\".format(a,b,c))"
   ]
  },
  {
   "cell_type": "markdown",
   "metadata": {},
   "source": [
    "### 数据类型转换"
   ]
  },
  {
   "cell_type": "code",
   "execution_count": 13,
   "metadata": {},
   "outputs": [
    {
     "name": "stdout",
     "output_type": "stream",
     "text": [
      "d=[[1 0 3]\n",
      " [8 5 4]]\n",
      "e=tensor([[1, 0, 3],\n",
      "        [8, 5, 4]])\n",
      "\n"
     ]
    }
   ],
   "source": [
    "d=np.array(a)\n",
    "e=torch.tensor(d)\n",
    "print(\"d={}\\ne={}\\n\".format(d,e))"
   ]
  },
  {
   "cell_type": "markdown",
   "metadata": {},
   "source": [
    "### 基本运算操作"
   ]
  },
  {
   "cell_type": "code",
   "execution_count": 21,
   "metadata": {},
   "outputs": [
    {
     "name": "stdout",
     "output_type": "stream",
     "text": [
      "a=tensor([[6., 9., 4.],\n",
      "        [2., 9., 8.]], dtype=torch.float64)\n",
      "b=tensor([[1., 1., 1.],\n",
      "        [1., 1., 1.]])\n",
      "a=tensor([[ 7., 10.,  5.],\n",
      "        [ 3., 10.,  9.]], dtype=torch.float64)\n",
      "b=tensor([[1., 1., 1.],\n",
      "        [1., 1., 1.]])\n",
      "tensor([[ 7., 10.,  5.],\n",
      "        [ 3., 10.,  9.]], dtype=torch.float64)\n",
      "tensor([[0., 0., 0.],\n",
      "        [0., 0., 0.]], dtype=torch.float64)\n",
      "tensor([[ 7., 10.,  5.],\n",
      "        [ 3., 10.,  9.]], dtype=torch.float64)\n",
      "tensor([[1., 1.],\n",
      "        [1., 1.],\n",
      "        [1., 1.]])\n",
      "tensor([[ 7., 10.,  5.],\n",
      "        [ 3., 10.,  9.]], dtype=torch.float64)\n",
      "a=tensor([[ 7., 10.,  5.],\n",
      "        [ 3., 10.,  9.]])\n",
      "b=tensor([[1., 1., 1.],\n",
      "        [1., 1., 1.]])\n",
      "tensor([[22., 22.],\n",
      "        [22., 22.]])\n",
      "tensor(44.)\n",
      "tensor(3.) tensor(10.)\n",
      "tensor(3) tensor(1)\n"
     ]
    }
   ],
   "source": [
    "#任何使tensor发生变化的操作都会有前缀 “_”\n",
    "a=torch.randint(0,10,(2,3),dtype=float)\n",
    "b=torch.ones(2,3)\n",
    "print(\"a={}\\nb={}\".format(a,b))\n",
    "#a=a+b\n",
    "a.add_(b)\n",
    "print(\"a={}\\nb={}\".format(a,b))\n",
    "print(a*b)#对应位置相乘\n",
    "print(a%b)#对应位置取余\n",
    "print(a//b)#对应位置整除\n",
    "print(b.T)#转置\n",
    "print(a)\n",
    "a=a.float()\n",
    "b=b.float()"
   ]
  },
  {
   "cell_type": "code",
   "execution_count": 26,
   "metadata": {},
   "outputs": [
    {
     "name": "stdout",
     "output_type": "stream",
     "text": [
      "a=tensor([[2., 6., 2.],\n",
      "        [3., 1., 2.]])\n",
      "b=tensor([[1., 1., 1.],\n",
      "        [1., 1., 1.]])\n",
      "tensor([[10., 10.],\n",
      "        [ 6.,  6.]])\n",
      "tensor(16.)\n",
      "tensor(1.) tensor(6.)\n",
      "tensor(4) tensor(1)\n",
      "tensor(2.6667)\n",
      "tensor(2.)\n"
     ]
    }
   ],
   "source": [
    "a=torch.randint(0,10,(2,3),dtype=float)\n",
    "b=torch.ones(2,3)\n",
    "a=a.float()\n",
    "print(\"a={}\\nb={}\".format(a,b))\n",
    "print(torch.matmul(a,b.T))#矩阵相乘，注意两个矩阵元素dtype相同\n",
    "print(torch.sum(a))#矩阵所有元素求和，返回一个tensor\n",
    "print(torch.min(a),torch.max(a))#返回最大值和最小值，返回tensor\n",
    "print(torch.argmin(a),torch.argmax(a))#返回最小值的索引\n",
    "print(torch.mean(a))#返回a矩阵所有元素的均值，返回tensor\n",
    "print(torch.median(a))#中位数，返回tensor"
   ]
  },
  {
   "cell_type": "markdown",
   "metadata": {},
   "source": [
    "### 数据的索引"
   ]
  },
  {
   "cell_type": "code",
   "execution_count": 32,
   "metadata": {},
   "outputs": [
    {
     "name": "stdout",
     "output_type": "stream",
     "text": [
      "tensor([ 2,  3,  4,  5,  6,  7,  8,  9, 10, 11, 12, 13])\n",
      "tensor(4)\n",
      "tensor([3, 4, 5])\n",
      "tensor([2, 3, 4, 5, 6])\n"
     ]
    }
   ],
   "source": [
    "te=torch.arange(2,14)#左闭右开\n",
    "print(te)\n",
    "print(te[2])\n",
    "print(te[1:4])\n",
    "print(te[:5])#不做特殊说明，冒号左边没有数据就是从开头取，冒号右边没有就是取到最后"
   ]
  },
  {
   "cell_type": "markdown",
   "metadata": {},
   "source": [
    "### 自动求导"
   ]
  },
  {
   "cell_type": "markdown",
   "metadata": {},
   "source": [
    "定义一个Output=$\\frac{1}{4}\\sum_{i}z_{i}$,其中$z=3(x_i +2)^2$且有$z_i |_{x_i =1}=27$,因此$\\frac{\\partial output}{\\partial x_i}=\\frac{3}{2}(x+2)$,所以$\\frac{\\partial output}{\\partial x_i}|_{x_i =1}=\\frac{9}{2}=4.5$"
   ]
  },
  {
   "cell_type": "code",
   "execution_count": 37,
   "metadata": {},
   "outputs": [
    {
     "name": "stdout",
     "output_type": "stream",
     "text": [
      "tensor(27., grad_fn=<MeanBackward0>)\n"
     ]
    }
   ],
   "source": [
    "x=torch.ones((2,2),requires_grad=True)#定义一个tensor，设置可计算梯度\n",
    "y=x+2\n",
    "z=y*y*3\n",
    "out=z.mean()\n",
    "print(out)"
   ]
  },
  {
   "cell_type": "code",
   "execution_count": 38,
   "metadata": {},
   "outputs": [
    {
     "name": "stdout",
     "output_type": "stream",
     "text": [
      "tensor([[4.5000, 4.5000],\n",
      "        [4.5000, 4.5000]])\n"
     ]
    }
   ],
   "source": [
    "out.backward()\n",
    "print(x.grad)"
   ]
  },
  {
   "cell_type": "code",
   "execution_count": null,
   "metadata": {},
   "outputs": [],
   "source": []
  }
 ],
 "metadata": {
  "kernelspec": {
   "display_name": "base",
   "language": "python",
   "name": "python3"
  },
  "language_info": {
   "codemirror_mode": {
    "name": "ipython",
    "version": 3
   },
   "file_extension": ".py",
   "mimetype": "text/x-python",
   "name": "python",
   "nbconvert_exporter": "python",
   "pygments_lexer": "ipython3",
   "version": "3.9.13"
  }
 },
 "nbformat": 4,
 "nbformat_minor": 2
}
