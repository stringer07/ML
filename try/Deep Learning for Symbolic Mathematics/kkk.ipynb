{
 "cells": [
  {
   "cell_type": "code",
   "execution_count": 33,
   "metadata": {},
   "outputs": [],
   "source": [
    "import os\n",
    "import numpy as np\n",
    "import sympy as sp\n",
    "import torch\n",
    "\n",
    "from src.utils import AttrDict\n",
    "from src.envs import build_env\n",
    "from src.model import build_modules\n",
    "\n",
    "#from src.utils import to_cuda\n",
    "from src.envs.sympy_utils import simplify"
   ]
  },
  {
   "cell_type": "code",
   "execution_count": 34,
   "metadata": {},
   "outputs": [],
   "source": [
    "# trained model, e.g. \"wget https://dl.fbaipublicfiles.com/SymbolicMathematics/models/fwd_bwd.pth\"\n",
    "model_path ='C:/Users/17422/Downloads/fwd_bwd_ibp.pth'\n",
    "assert os.path.isfile(model_path)"
   ]
  },
  {
   "cell_type": "code",
   "execution_count": 35,
   "metadata": {},
   "outputs": [],
   "source": [
    "params = params = AttrDict({\n",
    "\n",
    "    # environment parameters\n",
    "    'env_name': 'char_sp',\n",
    "    'int_base': 10,\n",
    "    'balanced': False,\n",
    "    'positive': True,\n",
    "    'precision': 10,\n",
    "    'n_variables': 1,\n",
    "    'n_coefficients': 0,\n",
    "    'leaf_probs': '0.75,0,0.25,0',\n",
    "    'max_len': 512,\n",
    "    'max_int': 5,\n",
    "    'max_ops': 15,\n",
    "    'max_ops_G': 15,\n",
    "    'clean_prefix_expr': True,\n",
    "    'rewrite_functions': '',\n",
    "    'tasks': 'prim_fwd',\n",
    "    'operators': 'add:10,sub:3,mul:10,div:5,sqrt:4,pow2:4,pow3:2,pow4:1,pow5:1,ln:4,exp:4,sin:4,cos:4,tan:4,asin:1,acos:1,atan:1,sinh:1,cosh:1,tanh:1,asinh:1,acosh:1,atanh:1',\n",
    "\n",
    "    # model parameters\n",
    "    'cpu': True,\n",
    "    'emb_dim': 1024,\n",
    "    'n_enc_layers': 6,\n",
    "    'n_dec_layers': 6,\n",
    "    'n_heads': 8,\n",
    "    'dropout': 0,\n",
    "    'attention_dropout': 0,\n",
    "    'sinusoidal_embeddings': False,\n",
    "    'share_inout_emb': True,\n",
    "    'reload_model': model_path,\n",
    "\n",
    "})"
   ]
  },
  {
   "cell_type": "code",
   "execution_count": 36,
   "metadata": {},
   "outputs": [],
   "source": [
    "env = build_env(params)\n",
    "x = env.local_dict['x']"
   ]
  },
  {
   "cell_type": "code",
   "execution_count": 37,
   "metadata": {},
   "outputs": [],
   "source": [
    "modules = build_modules(env, params)\n",
    "encoder = modules['encoder']\n",
    "decoder = modules['decoder']"
   ]
  },
  {
   "cell_type": "code",
   "execution_count": 38,
   "metadata": {},
   "outputs": [
    {
     "data": {
      "text/plain": [
       "'ln(cos(x + exp(x)) * sin(x**2 + 2) * exp(x) / x)'"
      ]
     },
     "execution_count": 38,
     "metadata": {},
     "output_type": "execute_result"
    }
   ],
   "source": [
    "# here you can modify the integral function the model has to predict, F\n",
    "#F_infix = 'x * tan(exp(x)/x)'\n",
    "#F_infix = 'x * cos(x**2) * tan(x)'\n",
    "#F_infix = 'cos(x**2 * exp(x * cos(x)))'\n",
    "F_infix = 'ln(cos(x + exp(x)) * sin(x**2 + 2) * exp(x) / x)'\n",
    "F_infix"
   ]
  },
  {
   "cell_type": "code",
   "execution_count": 39,
   "metadata": {},
   "outputs": [
    {
     "data": {
      "text/latex": [
       "$\\displaystyle \\log{\\left(\\frac{e^{x} \\sin{\\left(x^{2} + 2 \\right)} \\cos{\\left(x + e^{x} \\right)}}{x} \\right)}$"
      ],
      "text/plain": [
       "log(exp(x)*sin(x**2 + 2)*cos(x + exp(x))/x)"
      ]
     },
     "execution_count": 39,
     "metadata": {},
     "output_type": "execute_result"
    }
   ],
   "source": [
    "# F (integral, that the model will try to predict)\n",
    "F = sp.S(F_infix, locals=env.local_dict)\n",
    "F"
   ]
  },
  {
   "cell_type": "code",
   "execution_count": 40,
   "metadata": {},
   "outputs": [
    {
     "data": {
      "text/latex": [
       "$\\displaystyle \\frac{x \\left(2 e^{x} \\cos{\\left(x + e^{x} \\right)} \\cos{\\left(x^{2} + 2 \\right)} - \\frac{\\left(e^{x} + 1\\right) e^{x} \\sin{\\left(x + e^{x} \\right)} \\sin{\\left(x^{2} + 2 \\right)}}{x} + \\frac{e^{x} \\sin{\\left(x^{2} + 2 \\right)} \\cos{\\left(x + e^{x} \\right)}}{x} - \\frac{e^{x} \\sin{\\left(x^{2} + 2 \\right)} \\cos{\\left(x + e^{x} \\right)}}{x^{2}}\\right) e^{- x}}{\\sin{\\left(x^{2} + 2 \\right)} \\cos{\\left(x + e^{x} \\right)}}$"
      ],
      "text/plain": [
       "x*(2*exp(x)*cos(x + exp(x))*cos(x**2 + 2) - (exp(x) + 1)*exp(x)*sin(x + exp(x))*sin(x**2 + 2)/x + exp(x)*sin(x**2 + 2)*cos(x + exp(x))/x - exp(x)*sin(x**2 + 2)*cos(x + exp(x))/x**2)*exp(-x)/(sin(x**2 + 2)*cos(x + exp(x)))"
      ]
     },
     "execution_count": 40,
     "metadata": {},
     "output_type": "execute_result"
    }
   ],
   "source": [
    "# f (F', that the model will take as input)\n",
    "f = F.diff(x)\n",
    "f"
   ]
  },
  {
   "cell_type": "code",
   "execution_count": 41,
   "metadata": {},
   "outputs": [
    {
     "name": "stdout",
     "output_type": "stream",
     "text": [
      "F prefix: ['ln', 'mul', 'pow', 'x', 'INT-', '1', 'mul', 'cos', 'add', 'x', 'exp', 'x', 'mul', 'exp', 'x', 'sin', 'add', 'INT+', '2', 'pow', 'x', 'INT+', '2']\n",
      "f prefix: ['mul', 'x', 'mul', 'pow', 'cos', 'add', 'x', 'exp', 'x', 'INT-', '1', 'mul', 'pow', 'sin', 'add', 'INT+', '2', 'pow', 'x', 'INT+', '2', 'INT-', '1', 'mul', 'add', 'mul', 'INT+', '2', 'mul', 'cos', 'add', 'INT+', '2', 'pow', 'x', 'INT+', '2', 'mul', 'cos', 'add', 'x', 'exp', 'x', 'exp', 'x', 'add', 'mul', 'pow', 'x', 'INT-', '1', 'mul', 'cos', 'add', 'x', 'exp', 'x', 'mul', 'exp', 'x', 'sin', 'add', 'INT+', '2', 'pow', 'x', 'INT+', '2', 'add', 'mul', 'INT-', '1', 'mul', 'pow', 'x', 'INT-', '2', 'mul', 'cos', 'add', 'x', 'exp', 'x', 'mul', 'exp', 'x', 'sin', 'add', 'INT+', '2', 'pow', 'x', 'INT+', '2', 'mul', 'INT-', '1', 'mul', 'pow', 'x', 'INT-', '1', 'mul', 'add', 'INT+', '1', 'exp', 'x', 'mul', 'exp', 'x', 'mul', 'sin', 'add', 'INT+', '2', 'pow', 'x', 'INT+', '2', 'sin', 'add', 'x', 'exp', 'x', 'exp', 'mul', 'INT-', '1', 'x']\n"
     ]
    }
   ],
   "source": [
    "F_prefix = env.sympy_to_prefix(F)\n",
    "f_prefix = env.sympy_to_prefix(f)\n",
    "print(f\"F prefix: {F_prefix}\")\n",
    "print(f\"f prefix: {f_prefix}\")"
   ]
  },
  {
   "cell_type": "code",
   "execution_count": 42,
   "metadata": {},
   "outputs": [],
   "source": [
    "x1_prefix = env.clean_prefix(['sub', 'derivative', 'f', 'x', 'x'] + f_prefix)\n",
    "x1 = torch.LongTensor(\n",
    "    [env.eos_index] +\n",
    "    [env.word2id[w] for w in x1_prefix] +\n",
    "    [env.eos_index]\n",
    ").view(-1, 1)\n",
    "len1 = torch.LongTensor([len(x1)])\n",
    "#x1, len1 = to_cuda(x1, len1)\n",
    "\n",
    "with torch.no_grad():\n",
    "    encoded = encoder('fwd', x=x1, lengths=len1, causal=False).transpose(0, 1)"
   ]
  },
  {
   "cell_type": "code",
   "execution_count": 43,
   "metadata": {},
   "outputs": [],
   "source": [
    "beam_size = 10\n",
    "with torch.no_grad():\n",
    "    _, _, beam = decoder.generate_beam(encoded, len1, beam_size=beam_size, length_penalty=1.0, early_stopping=1, max_len=200)\n",
    "    assert len(beam) == 1\n",
    "hypotheses = beam[0].hyp\n",
    "assert len(hypotheses) == beam_size"
   ]
  },
  {
   "cell_type": "code",
   "execution_count": 44,
   "metadata": {},
   "outputs": [
    {
     "name": "stdout",
     "output_type": "stream",
     "text": [
      "Input function f: x*(2*exp(x)*cos(x + exp(x))*cos(x**2 + 2) - (exp(x) + 1)*exp(x)*sin(x + exp(x))*sin(x**2 + 2)/x + exp(x)*sin(x**2 + 2)*cos(x + exp(x))/x - exp(x)*sin(x**2 + 2)*cos(x + exp(x))/x**2)*exp(-x)/(sin(x**2 + 2)*cos(x + exp(x)))\n",
      "Reference function F: log(exp(x)*sin(x**2 + 2)*cos(x + exp(x))/x)\n",
      "\n"
     ]
    },
    {
     "ename": "ValueError",
     "evalue": "invalid signal value",
     "output_type": "error",
     "traceback": [
      "\u001b[1;31m---------------------------------------------------------------------------\u001b[0m",
      "\u001b[1;31mValueError\u001b[0m                                Traceback (most recent call last)",
      "\u001b[1;32m~\\AppData\\Local\\Temp\\ipykernel_31720\\3668412394.py\u001b[0m in \u001b[0;36m<module>\u001b[1;34m\u001b[0m\n\u001b[0;32m     15\u001b[0m         \u001b[1;31m# check whether we recover f if we differentiate the hypothesis\u001b[0m\u001b[1;33m\u001b[0m\u001b[1;33m\u001b[0m\u001b[0m\n\u001b[0;32m     16\u001b[0m         \u001b[1;31m# note that sometimes, SymPy fails to show that hyp' - f == 0, and the result is considered as invalid, although it may be correct\u001b[0m\u001b[1;33m\u001b[0m\u001b[1;33m\u001b[0m\u001b[0m\n\u001b[1;32m---> 17\u001b[1;33m     \u001b[0mres\u001b[0m \u001b[1;33m=\u001b[0m \u001b[1;34m\"OK\"\u001b[0m \u001b[1;32mif\u001b[0m \u001b[0msimplify\u001b[0m\u001b[1;33m(\u001b[0m\u001b[0mhyp\u001b[0m\u001b[1;33m.\u001b[0m\u001b[0mdiff\u001b[0m\u001b[1;33m(\u001b[0m\u001b[0mx\u001b[0m\u001b[1;33m)\u001b[0m \u001b[1;33m-\u001b[0m \u001b[0mf\u001b[0m\u001b[1;33m,\u001b[0m \u001b[0mseconds\u001b[0m\u001b[1;33m=\u001b[0m\u001b[1;36m1\u001b[0m\u001b[1;33m)\u001b[0m \u001b[1;33m==\u001b[0m \u001b[1;36m0\u001b[0m \u001b[1;32melse\u001b[0m \u001b[1;34m\"NO\"\u001b[0m\u001b[1;33m\u001b[0m\u001b[1;33m\u001b[0m\u001b[0m\n\u001b[0m\u001b[0;32m     18\u001b[0m \u001b[1;33m\u001b[0m\u001b[0m\n\u001b[0;32m     19\u001b[0m     '''except:\n",
      "\u001b[1;32md:\\visual studio code\\ML\\try\\Deep Learning for Symbolic Mathematics\\src\\envs\\sympy_utils.py\u001b[0m in \u001b[0;36msimplify\u001b[1;34m(f, seconds)\u001b[0m\n\u001b[0;32m     35\u001b[0m \u001b[1;33m\u001b[0m\u001b[0m\n\u001b[0;32m     36\u001b[0m \u001b[1;33m\u001b[0m\u001b[0m\n\u001b[1;32m---> 37\u001b[1;33m \u001b[1;32mdef\u001b[0m \u001b[0mcount_occurrences\u001b[0m\u001b[1;33m(\u001b[0m\u001b[0mexpr\u001b[0m\u001b[1;33m)\u001b[0m\u001b[1;33m:\u001b[0m\u001b[1;33m\u001b[0m\u001b[1;33m\u001b[0m\u001b[0m\n\u001b[0m\u001b[0;32m     38\u001b[0m     \"\"\"\n\u001b[0;32m     39\u001b[0m     \u001b[0mCount\u001b[0m \u001b[0matom\u001b[0m \u001b[0moccurrences\u001b[0m \u001b[1;32min\u001b[0m \u001b[0man\u001b[0m \u001b[0mexpression\u001b[0m\u001b[1;33m.\u001b[0m\u001b[1;33m\u001b[0m\u001b[1;33m\u001b[0m\u001b[0m\n",
      "\u001b[1;32md:\\visual studio code\\ML\\try\\Deep Learning for Symbolic Mathematics\\src\\utils.py\u001b[0m in \u001b[0;36mwrapper\u001b[1;34m(*args, **kwargs)\u001b[0m\n\u001b[0;32m    152\u001b[0m             \u001b[1;32mtry\u001b[0m\u001b[1;33m:\u001b[0m\u001b[1;33m\u001b[0m\u001b[1;33m\u001b[0m\u001b[0m\n\u001b[0;32m    153\u001b[0m                 \u001b[0mresult\u001b[0m \u001b[1;33m=\u001b[0m \u001b[0mfunc\u001b[0m\u001b[1;33m(\u001b[0m\u001b[1;33m*\u001b[0m\u001b[0margs\u001b[0m\u001b[1;33m,\u001b[0m \u001b[1;33m**\u001b[0m\u001b[0mkwargs\u001b[0m\u001b[1;33m)\u001b[0m\u001b[1;33m\u001b[0m\u001b[1;33m\u001b[0m\u001b[0m\n\u001b[1;32m--> 154\u001b[1;33m             \u001b[1;32mfinally\u001b[0m\u001b[1;33m:\u001b[0m\u001b[1;33m\u001b[0m\u001b[1;33m\u001b[0m\u001b[0m\n\u001b[0m\u001b[0;32m    155\u001b[0m                 \u001b[1;32mif\u001b[0m \u001b[0mold_time_left\u001b[0m \u001b[1;33m==\u001b[0m \u001b[1;36m0\u001b[0m\u001b[1;33m:\u001b[0m\u001b[1;33m\u001b[0m\u001b[1;33m\u001b[0m\u001b[0m\n\u001b[0;32m    156\u001b[0m                     \u001b[0msignal\u001b[0m\u001b[1;33m.\u001b[0m\u001b[0malarm\u001b[0m\u001b[1;33m(\u001b[0m\u001b[1;36m0\u001b[0m\u001b[1;33m)\u001b[0m\u001b[1;33m\u001b[0m\u001b[1;33m\u001b[0m\u001b[0m\n",
      "\u001b[1;32md:\\Anaconda\\anaconda\\lib\\signal.py\u001b[0m in \u001b[0;36msignal\u001b[1;34m(signalnum, handler)\u001b[0m\n\u001b[0;32m     54\u001b[0m \u001b[1;33m@\u001b[0m\u001b[0m_wraps\u001b[0m\u001b[1;33m(\u001b[0m\u001b[0m_signal\u001b[0m\u001b[1;33m.\u001b[0m\u001b[0msignal\u001b[0m\u001b[1;33m)\u001b[0m\u001b[1;33m\u001b[0m\u001b[1;33m\u001b[0m\u001b[0m\n\u001b[0;32m     55\u001b[0m \u001b[1;32mdef\u001b[0m \u001b[0msignal\u001b[0m\u001b[1;33m(\u001b[0m\u001b[0msignalnum\u001b[0m\u001b[1;33m,\u001b[0m \u001b[0mhandler\u001b[0m\u001b[1;33m)\u001b[0m\u001b[1;33m:\u001b[0m\u001b[1;33m\u001b[0m\u001b[1;33m\u001b[0m\u001b[0m\n\u001b[1;32m---> 56\u001b[1;33m     \u001b[0mhandler\u001b[0m \u001b[1;33m=\u001b[0m \u001b[0m_signal\u001b[0m\u001b[1;33m.\u001b[0m\u001b[0msignal\u001b[0m\u001b[1;33m(\u001b[0m\u001b[0m_enum_to_int\u001b[0m\u001b[1;33m(\u001b[0m\u001b[0msignalnum\u001b[0m\u001b[1;33m)\u001b[0m\u001b[1;33m,\u001b[0m \u001b[0m_enum_to_int\u001b[0m\u001b[1;33m(\u001b[0m\u001b[0mhandler\u001b[0m\u001b[1;33m)\u001b[0m\u001b[1;33m)\u001b[0m\u001b[1;33m\u001b[0m\u001b[1;33m\u001b[0m\u001b[0m\n\u001b[0m\u001b[0;32m     57\u001b[0m     \u001b[1;32mreturn\u001b[0m \u001b[0m_int_to_enum\u001b[0m\u001b[1;33m(\u001b[0m\u001b[0mhandler\u001b[0m\u001b[1;33m,\u001b[0m \u001b[0mHandlers\u001b[0m\u001b[1;33m)\u001b[0m\u001b[1;33m\u001b[0m\u001b[1;33m\u001b[0m\u001b[0m\n\u001b[0;32m     58\u001b[0m \u001b[1;33m\u001b[0m\u001b[0m\n",
      "\u001b[1;31mValueError\u001b[0m: invalid signal value"
     ]
    }
   ],
   "source": [
    "print(f\"Input function f: {f}\")\n",
    "print(f\"Reference function F: {F}\")\n",
    "print(\"\")\n",
    "\n",
    "for score, sent in sorted(hypotheses, key=lambda x: x[0], reverse=True):\n",
    "\n",
    "    # parse decoded hypothesis\n",
    "    ids = sent[1:].tolist()                  # decoded token IDs\n",
    "    tok = [env.id2word[wid] for wid in ids]  # convert to prefix\n",
    "\n",
    "    \n",
    "    hyp = env.prefix_to_infix(tok)       # convert to infix\n",
    "    hyp = env.infix_to_sympy(hyp)        # convert to SymPy\n",
    "\n",
    "        # check whether we recover f if we differentiate the hypothesis\n",
    "        # note that sometimes, SymPy fails to show that hyp' - f == 0, and the result is considered as invalid, although it may be correct\n",
    "    res = \"OK\" if simplify(hyp.diff(x) - f, seconds=1) == 0 else \"NO\"\n",
    "\n",
    "    '''except:\n",
    "        res = \"INVALID PREFIX EXPRESSION\"\n",
    "        hyp = tok'''\n",
    "\n",
    "    # print result\n",
    "    print(\"%.5f  %s  %s\" % (score, res, hyp))"
   ]
  },
  {
   "cell_type": "code",
   "execution_count": null,
   "metadata": {},
   "outputs": [],
   "source": []
  }
 ],
 "metadata": {
  "kernelspec": {
   "display_name": "base",
   "language": "python",
   "name": "python3"
  },
  "language_info": {
   "codemirror_mode": {
    "name": "ipython",
    "version": 3
   },
   "file_extension": ".py",
   "mimetype": "text/x-python",
   "name": "python",
   "nbconvert_exporter": "python",
   "pygments_lexer": "ipython3",
   "version": "3.9.13"
  }
 },
 "nbformat": 4,
 "nbformat_minor": 2
}
